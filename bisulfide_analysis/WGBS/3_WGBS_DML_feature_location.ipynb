{
 "cells": [
  {
   "cell_type": "markdown",
   "metadata": {},
   "source": [
    "<h1> Find where identified DMLs are in genome features </h1>\n",
    "\n",
    "Genomic Location of DML\n",
    "In this notebook, I will identify the genomic locations of DML identified with methylKit.\n",
    "\n",
    "Create BEDfiles for DML\n",
    "Identify overlaps between pH- and ploidy-DML\n",
    "Characterize genomic locations for DML\n",
    "Identify overlaps between SNPs and DML"
   ]
  },
  {
   "cell_type": "markdown",
   "metadata": {},
   "source": [
    "<h2> 0. Set working directory </h2>"
   ]
  },
  {
   "cell_type": "code",
   "execution_count": 4,
   "metadata": {},
   "outputs": [
    {
     "data": {
      "text/plain": [
       "'C:\\\\Users\\\\mattg\\\\Dropbox\\\\UW\\\\Postdoc\\\\[2021] ploidy_gigas_desiccation\\\\project-gigas_ploidy\\\\bisulfide_analysis\\\\WGBS'"
      ]
     },
     "execution_count": 4,
     "metadata": {},
     "output_type": "execute_result"
    }
   ],
   "source": [
    "pwd"
   ]
  },
  {
   "cell_type": "code",
   "execution_count": 32,
   "metadata": {},
   "outputs": [],
   "source": [
    "bedtoolsDirectory = \"C:\\\\Users\\\\mattg\\\\Dropbox\\\\Bioinformatics\\\\bedtools2\\\\bin\\\\\""
   ]
  },
  {
   "cell_type": "code",
   "execution_count": 18,
   "metadata": {
    "scrolled": true
   },
   "outputs": [
    {
     "name": "stdout",
     "output_type": "stream",
     "text": [
      "\"\",\"chr\",\"start\",\"end\",\"strand\",\"pvalue\",\"qvalue\",\"meth.diff\"\n",
      "\"2989\",\"NC_047559.1\",999977,999979,\"*\",6.71102978043097e-13,3.11215309956983e-10,-57.7777777777778\n",
      "\"3012\",\"NC_047559.1\",1006648,1006650,\"*\",1.50213008292768e-19,4.2583718263814e-16,-62.6865671641791\n",
      "\"3350\",\"NC_047559.1\",1106815,1106817,\"*\",9.33799002955246e-18,1.81334322270356e-14,-63.5252808988764\n",
      "\"7829\",\"NC_047559.1\",3201639,3201641,\"*\",4.61637404309661e-22,1.99211811297994e-18,67.666451195863\n",
      "\"8180\",\"NC_047559.1\",3232121,3232123,\"*\",2.80848217625737e-21,1.07199770940878e-17,-57.685009487666\n",
      "\"19437\",\"NC_047559.1\",5164333,5164335,\"*\",1.60023348729172e-17,2.94548965926507e-14,-54.1097375840382\n",
      "\"20216\",\"NC_047559.1\",5366817,5366819,\"*\",4.27240207058284e-22,1.85917596097758e-18,-53.0361499223775\n",
      "\"20491\",\"NC_047559.1\",5430186,5430188,\"*\",1.46748793936963e-22,6.88752425827661e-19,-58.3071652868969\n",
      "\"32108\",\"NC_047559.1\",8175793,8175795,\"*\",1.1457911387692e-13,6.96403915599538e-11,-50.5882352941176\n"
     ]
    }
   ],
   "source": [
    "!head DML\\\\DML-getMethylDiff-ploidy-Cov10-50.csv"
   ]
  },
  {
   "cell_type": "code",
   "execution_count": 19,
   "metadata": {},
   "outputs": [
    {
     "name": "stdout",
     "output_type": "stream",
     "text": [
      "2425\n",
      "1379\n"
     ]
    }
   ],
   "source": [
    "#Count hypomethylated DML\n",
    "#Count hypermethylated DML\n",
    "!grep \"-\" DML\\\\DML-getMethylDiff-ploidy-Cov10-50.bed | wc -l\n",
    "!grep -v \"-\" DML\\\\DML-getMethylDiff-ploidy-Cov10-50.bed | wc -l"
   ]
  },
  {
   "cell_type": "markdown",
   "metadata": {},
   "source": [
    "<h2> 1. Characterize genomic locations of DML  </h2>"
   ]
  },
  {
   "cell_type": "code",
   "execution_count": 33,
   "metadata": {},
   "outputs": [
    {
     "name": "stderr",
     "output_type": "stream",
     "text": [
      "'C:\\Users\\mattg\\Dropbox\\Bioinformatics\\bedtools2\\bin\\intersectBed' is not recognized as an internal or external command,\n",
      "operable program or batch file.\n"
     ]
    },
    {
     "name": "stdout",
     "output_type": "stream",
     "text": [
      "0 DML-getMethylDiff-ploidy-Cov10-50-gene.bed\n"
     ]
    }
   ],
   "source": [
    "#Find overlaps between DML and feature\n",
    "#Look at output\n",
    "#Count number of overlaps\n",
    "\n",
    "!{bedtoolsDirectory}intersectBed \\\n",
    "-u \\\n",
    "-a DML\\\\DML-getMethylDiff-ploidy-Cov10-50.bed \\\n",
    "-b /Volumes/web-1/halfshell/genomic-databank/cgigas_uk_roslin_v1_gene.gff \\\n",
    "> DML-getMethylDiff-ploidy-Cov10-50-gene.bed\n",
    "!head DML-getMethylDiff-ploidy-Cov10-50-gene.bed\n",
    "!wc -l DML-getMethylDiff-ploidy-Cov10-50-gene.bed"
   ]
  }
 ],
 "metadata": {
  "kernelspec": {
   "display_name": "Python 3",
   "language": "python",
   "name": "python3"
  },
  "language_info": {
   "codemirror_mode": {
    "name": "ipython",
    "version": 3
   },
   "file_extension": ".py",
   "mimetype": "text/x-python",
   "name": "python",
   "nbconvert_exporter": "python",
   "pygments_lexer": "ipython3",
   "version": "3.8.5"
  }
 },
 "nbformat": 4,
 "nbformat_minor": 4
}
